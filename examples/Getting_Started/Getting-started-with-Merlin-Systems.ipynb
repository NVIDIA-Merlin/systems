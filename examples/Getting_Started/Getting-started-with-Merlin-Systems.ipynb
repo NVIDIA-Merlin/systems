{
 "cells": [
  {
   "cell_type": "code",
   "execution_count": 1,
   "id": "620dd990",
   "metadata": {},
   "outputs": [],
   "source": [
    "# Copyright 2022 NVIDIA Corporation. All Rights Reserved.\n",
    "#\n",
    "# Licensed under the Apache License, Version 2.0 (the \"License\");\n",
    "# you may not use this file except in compliance with the License.\n",
    "# You may obtain a copy of the License at\n",
    "#\n",
    "#     http://www.apache.org/licenses/LICENSE-2.0\n",
    "#\n",
    "# Unless required by applicable law or agreed to in writing, software\n",
    "# distributed under the License is distributed on an \"AS IS\" BASIS,\n",
    "# WITHOUT WARRANTIES OR CONDITIONS OF ANY KIND, either express or implied.\n",
    "# See the License for the specific language governing permissions and\n",
    "# limitations under the License.\n",
    "# =============================================================================="
   ]
  },
  {
   "cell_type": "markdown",
   "id": "f550a0e5",
   "metadata": {},
   "source": [
    "<img src=\"http://developer.download.nvidia.com/compute/machine-learning/frameworks/nvidia_logo.png\" style=\"width: 90px; float: right;\">\n",
    "\n",
    "# Merlin Systems: From Models to Serving Recommendations\n",
    "\n",
    "## Overview\n",
    "\n",
    "NVIDIA Merlin is an open source framework that accelerates and scales end-to-end recommender system pipelines on GPU. The Merlin framework is broken up into several sub components, these include: Merlin-Core, Merlin-Models, NVTabular and Merlin-Systems. Merlin Systems will be the focus of this example.\n",
    "\n",
    "The purpose of the Merlin Systems library is to make it easy for Merlin users to quickly deploy their recommender systems from development to triton. We extended the same user-friendly API users are accustomed to in NVTabular and leveraged it to accommodate deploying your recommender system components to triton. \n",
    "\n",
    "There are some things we need ensure before we continue with this Notebook. Please ensure you have a working workflow and model stored in an accessible location. As previously mentioned, Merlin Systems will take the data preprocessing workflow defined in NVTabular and load that into triton as a model. Subsequently it will do the same for the trained model. Lets take a closer look in the rest of this notebook at how Merlin systems makes deploying to tritonserver simple and effortless.\n",
    "\n",
    "\n",
    "**Be sure to check the other components of the Merlin framework, they can help you **\n",
    "\n",
    "### Learning objectives\n",
    "\n",
    "In this notebook, we learn how to deploy a NVTabular Workflow and a trained model from Merlin Models to tritonserver.\n",
    "- Load NVtabular Workflow\n",
    "- Load Pre-trained Merlin Models model\n",
    "- Create Ensemble Graph\n",
    "- Export Ensemble Graph\n",
    "- Run Tritonserver\n",
    "- Send Request to Tritonserver\n",
    "\n",
    "### Dataset\n",
    "\n",
    "In this notebook, we will be leveraging the [Alibaba dataset](https://tianchi.aliyun.com/dataset/dataDetail?dataId=408#1). It is important to note that the steps will take in this notebook are generalized and can be applied to any set of workflow and models. To see how the data is transformed please check the [NVTabular](https://github.com/NVIDIA-Merlin/NVTabular) example for the Alibaba dataset. And to see how an Alibaba dataset trained model is created check the [merlin-models](https://github.com/NVIDIA-Merlin/models)\n",
    "\n",
    "### Tools\n",
    "\n",
    "- NVTabular\n",
    "- Merlin Models\n",
    "- Merlin Systems"
   ]
  },
  {
   "cell_type": "markdown",
   "id": "222fde5f",
   "metadata": {},
   "source": [
    "## Load an NVTabular Workflow\n",
    "\n",
    "First, we load the `nvtabular.Workflow` that we created in with this [example](https://github.com/NVIDIA-Merlin/models/blob/main/examples/04-Exporting-ranking-models.ipynb). "
   ]
  },
  {
   "cell_type": "code",
   "execution_count": 2,
   "id": "b1dc4a71",
   "metadata": {},
   "outputs": [
    {
     "name": "stderr",
     "output_type": "stream",
     "text": [
      "/nvtabular/nvtabular/graph.py:23: FutureWarning: The `nvtabular.graph` module has moved to `merlin.dag`. Support for importing from `nvtabular.graph` is deprecated, and will be removed in a future version. Please update your imports to import from `merlin.dag`.\n",
      "  warnings.warn(\n",
      "/nvtabular/nvtabular/io.py:23: FutureWarning: The `nvtabular.io` module has moved to `merlin.io`. Support for importing from `nvtabular.io` is deprecated, and will be removed in a future version. Please update your imports to import from `merlin.io`.\n",
      "  warnings.warn(\n",
      "/nvtabular/nvtabular/utils.py:23: FutureWarning: The `nvtabular.utils` module has moved to `merlin.core.utils`. Support for importing from `nvtabular.utils` is deprecated, and will be removed in a future version. Please update your imports to import from `merlin.core.utils`.\n",
      "  warnings.warn(\n",
      "/nvtabular/nvtabular/dispatch.py:23: FutureWarning: The `nvtabular.dispatch` module has moved to `merlin.core.dispatch`. Support for importing from `nvtabular.dispatch` is deprecated, and will be removed in a future version. Please update your imports to import from `merlin.core.dispatch`.\n",
      "  warnings.warn(\n"
     ]
    }
   ],
   "source": [
    "import os\n",
    "os.environ[\"TF_GPU_ALLOCATOR\"]=\"cuda_malloc_async\"\n",
    "from nvtabular.workflow import Workflow\n",
    "\n",
    "input_path = os.environ.get(\"INPUT_FOLDER\", \"/workspace/data/\")\n",
    "\n",
    "workflow_stored_path = os.path.join(input_path, \"workflow\")\n",
    "\n",
    "workflow = Workflow.load(workflow_stored_path)"
   ]
  },
  {
   "cell_type": "markdown",
   "id": "746fba56-36af-44a3-8beb-34ca026648be",
   "metadata": {},
   "source": [
    "After we load the workflow, we remove the label columns from it's inputs. This removes all columns with the `TARGET` tag from the workflow. We do this because we need to set the workflow to only  require the features needed to predict, not train, when creating an inference pipeline."
   ]
  },
  {
   "cell_type": "code",
   "execution_count": 3,
   "id": "bcef202e-fa6f-4c23-aca6-0b965faf637e",
   "metadata": {},
   "outputs": [
    {
     "data": {
      "text/plain": [
       "<nvtabular.workflow.workflow.Workflow at 0x7f442c402550>"
      ]
     },
     "execution_count": 3,
     "metadata": {},
     "output_type": "execute_result"
    }
   ],
   "source": [
    "from merlin.schema.tags import Tags\n",
    "\n",
    "label_columns = workflow.output_schema.select_by_tag(Tags.TARGET).column_names\n",
    "workflow.remove_inputs(label_columns)"
   ]
  },
  {
   "cell_type": "markdown",
   "id": "143795f2",
   "metadata": {},
   "source": [
    "## Load a Tensorflow Model\n",
    "\n",
    "After loading the workflow, we load the model. This model was trained with the output of the workflow from this [example](https://github.com/NVIDIA-Merlin/models/blob/main/examples/04-Exporting-ranking-models.ipynb)."
   ]
  },
  {
   "cell_type": "code",
   "execution_count": 4,
   "id": "8da5e606",
   "metadata": {},
   "outputs": [
    {
     "name": "stderr",
     "output_type": "stream",
     "text": [
      "2022-03-30 19:38:59.531435: I tensorflow/core/platform/cpu_feature_guard.cc:151] This TensorFlow binary is optimized with oneAPI Deep Neural Network Library (oneDNN) to use the following CPU instructions in performance-critical operations:  AVX2 AVX512F FMA\n",
      "To enable them in other operations, rebuild TensorFlow with the appropriate compiler flags.\n",
      "2022-03-30 19:39:01.547568: I tensorflow/core/common_runtime/gpu/gpu_process_state.cc:214] Using CUDA malloc Async allocator for GPU: 0\n",
      "2022-03-30 19:39:01.547720: I tensorflow/core/common_runtime/gpu/gpu_device.cc:1525] Created device /job:localhost/replica:0/task:0/device:GPU:0 with 35814 MB memory:  -> device: 0, name: Quadro RTX 8000, pci bus id: 0000:15:00.0, compute capability: 7.5\n",
      "2022-03-30 19:39:01.548314: I tensorflow/core/common_runtime/gpu/gpu_process_state.cc:214] Using CUDA malloc Async allocator for GPU: 1\n",
      "2022-03-30 19:39:01.548374: I tensorflow/core/common_runtime/gpu/gpu_device.cc:1525] Created device /job:localhost/replica:0/task:0/device:GPU:1 with 43332 MB memory:  -> device: 1, name: Quadro RTX 8000, pci bus id: 0000:2d:00.0, compute capability: 7.5\n",
      "2022-03-30 19:39:04.003205: W tensorflow/core/framework/cpu_allocator_impl.cc:82] Allocation of 788046592 exceeds 10% of free system memory.\n",
      "2022-03-30 19:39:04.003322: W tensorflow/core/framework/cpu_allocator_impl.cc:82] Allocation of 788046592 exceeds 10% of free system memory.\n",
      "2022-03-30 19:39:04.057883: W tensorflow/core/framework/cpu_allocator_impl.cc:82] Allocation of 788046592 exceeds 10% of free system memory.\n"
     ]
    }
   ],
   "source": [
    "import tensorflow as tf\n",
    "tf_model_path = os.path.join(input_path, \"dlrm\")\n",
    "\n",
    "model = tf.keras.models.load_model(tf_model_path)"
   ]
  },
  {
   "cell_type": "markdown",
   "id": "53908458",
   "metadata": {},
   "source": [
    "## Create the Ensemble Graph\n",
    "\n",
    "Once we have both the model and the workflow loaded we can create the Ensemble Graph. This graph is created by the user, the goal is to illustrate the path of data through your full system. In this example we only serve a workflow with a model, but you can add other components that might be necessary to comply with business logic requirements.\n",
    "\n",
    "For this example, because we have two components a model and a workflow we will require two operators. These operators, also known as Inference Operators, are meant to abstract away all the \"hard parts\" of loading a specific component (i.e. workflow or model) into tritonserver. \n",
    "\n",
    "In the following code block we will leverage two Inference operators, the TransformWorkflow operator and the PredictTensorflow operator. The TransformWorkflow operator ensures the workflow is correctly saved and packaged with the required config, so tritonserver will know how to load it. The PredictTensorflow operator will do something similar with the model, loaded before. \n",
    "\n",
    "Lets give it a try."
   ]
  },
  {
   "cell_type": "code",
   "execution_count": 5,
   "id": "f80e5cc8",
   "metadata": {},
   "outputs": [],
   "source": [
    "from merlin.systems.dag.ops.workflow import TransformWorkflow\n",
    "from merlin.systems.dag.ops.tensorflow import PredictTensorflow\n",
    "\n",
    "serving_operators = workflow.input_schema.column_names >> TransformWorkflow(workflow) >> PredictTensorflow(model)\n"
   ]
  },
  {
   "cell_type": "markdown",
   "id": "8b916afa",
   "metadata": {},
   "source": [
    "## Export Graph as Ensemble\n",
    "\n",
    "The last step is to create the ensemble artifacts that tritonserver can consume. To make these artifacts import the `Ensemble` class. It is responsible with interpreting the graph and exporting the correct files for tritonserver.\n",
    "\n",
    "Below you will see that we create a ColumnSchema for the expected inputs to the workflow, which is a Schema. \n",
    "\n",
    "When you are creating an `Ensemble` object you supply the graph and a schema representing the starting input of the graph. the inputs to the ensemble graph are the inputs to the first operator of your graph. \n",
    "\n",
    "After you have created the `Ensemble` you export the graph, supplying an export path for the `Ensemble.export` function.\n",
    "\n",
    "This returns an ensemble config which represents the entire inference pipeline and a list of node-specific configs.\n",
    "\n",
    "Lets take a look below."
   ]
  },
  {
   "cell_type": "code",
   "execution_count": 6,
   "id": "2c9a7cd2-e14e-4b37-b0af-3dc3931c9ff9",
   "metadata": {},
   "outputs": [
    {
     "data": {
      "text/plain": [
       "[{'name': 'user_id', 'tags': set(), 'properties': {}, 'dtype': dtype('O'), 'is_list': False, 'is_ragged': False}, {'name': 'item_id', 'tags': set(), 'properties': {}, 'dtype': dtype('O'), 'is_list': False, 'is_ragged': False}, {'name': 'item_category', 'tags': set(), 'properties': {}, 'dtype': dtype('O'), 'is_list': False, 'is_ragged': False}, {'name': 'item_shop', 'tags': set(), 'properties': {}, 'dtype': dtype('O'), 'is_list': False, 'is_ragged': False}, {'name': 'item_brand', 'tags': set(), 'properties': {}, 'dtype': dtype('O'), 'is_list': False, 'is_ragged': False}, {'name': 'user_shops', 'tags': set(), 'properties': {}, 'dtype': dtype('O'), 'is_list': False, 'is_ragged': False}, {'name': 'user_profile', 'tags': set(), 'properties': {}, 'dtype': dtype('O'), 'is_list': False, 'is_ragged': False}, {'name': 'user_group', 'tags': set(), 'properties': {}, 'dtype': dtype('O'), 'is_list': False, 'is_ragged': False}, {'name': 'user_gender', 'tags': set(), 'properties': {}, 'dtype': dtype('O'), 'is_list': False, 'is_ragged': False}, {'name': 'user_age', 'tags': set(), 'properties': {}, 'dtype': dtype('O'), 'is_list': False, 'is_ragged': False}, {'name': 'user_consumption_2', 'tags': set(), 'properties': {}, 'dtype': dtype('O'), 'is_list': False, 'is_ragged': False}, {'name': 'user_is_occupied', 'tags': set(), 'properties': {}, 'dtype': dtype('O'), 'is_list': False, 'is_ragged': False}, {'name': 'user_geography', 'tags': set(), 'properties': {}, 'dtype': dtype('O'), 'is_list': False, 'is_ragged': False}, {'name': 'user_intentions', 'tags': set(), 'properties': {}, 'dtype': dtype('O'), 'is_list': False, 'is_ragged': False}, {'name': 'user_brands', 'tags': set(), 'properties': {}, 'dtype': dtype('O'), 'is_list': False, 'is_ragged': False}, {'name': 'user_categories', 'tags': set(), 'properties': {}, 'dtype': dtype('O'), 'is_list': False, 'is_ragged': False}]"
      ]
     },
     "execution_count": 6,
     "metadata": {},
     "output_type": "execute_result"
    }
   ],
   "source": [
    "workflow.input_schema"
   ]
  },
  {
   "cell_type": "code",
   "execution_count": 7,
   "id": "c102204b",
   "metadata": {},
   "outputs": [
    {
     "name": "stderr",
     "output_type": "stream",
     "text": [
      "2022-03-30 19:39:05.797447: W tensorflow/python/util/util.cc:368] Sets are not currently considered sequences, but this may change in the future, so consider avoiding using them.\n",
      "WARNING:absl:Found untraced functions such as restored_function_body, restored_function_body, restored_function_body, restored_function_body, click/binary_classification_task/output_layer_layer_call_fn while saving (showing 5 of 48). These functions will not be directly callable after loading.\n",
      "2022-03-30 19:39:07.239921: W tensorflow/core/framework/cpu_allocator_impl.cc:82] Allocation of 788046592 exceeds 10% of free system memory.\n"
     ]
    },
    {
     "name": "stdout",
     "output_type": "stream",
     "text": [
      "INFO:tensorflow:Assets written to: /models/examples/processed/ensemble/1_predicttensorflow/1/model.savedmodel/assets\n"
     ]
    },
    {
     "name": "stderr",
     "output_type": "stream",
     "text": [
      "INFO:tensorflow:Assets written to: /models/examples/processed/ensemble/1_predicttensorflow/1/model.savedmodel/assets\n"
     ]
    }
   ],
   "source": [
    "from merlin.systems.dag.ensemble import Ensemble\n",
    "import numpy as np\n",
    "\n",
    "\n",
    "ensemble = Ensemble(serving_operators, workflow.input_schema)\n",
    "\n",
    "export_path = os.path.join(input_path, \"ensemble\")\n",
    "\n",
    "ens_conf, node_confs = ensemble.export(export_path)"
   ]
  },
  {
   "cell_type": "markdown",
   "id": "96aa55fb",
   "metadata": {},
   "source": [
    "## Verification of Ensemble Artifacts\n",
    "\n",
    "Once the ensemble export has completed successfully, we can check the export path for the graph's artifacts. You should see a file structure that represents a ordering number followed by an operator identifier(i.e. `1_transformworkflow`, `2_predicttensorflow`). \n",
    "\n",
    "Inside each of those directories, the `export` method writes a `config.pbtxt` file and a directory with a number. The number indicates the version and begins at 1. The artifacts for each operator are found inside the version folder. These artifacts vary depending on the operator in question. \n",
    "\n",
    "Please see the snapshot below for verification."
   ]
  },
  {
   "attachments": {
    "6f1f7c10-99d1-466e-9614-8ffa22f255ac.png": {
     "image/png": "[encoded data removed]"
    }
   },
   "cell_type": "markdown",
   "id": "3cb65616-1d76-4232-91f4-c442297431f9",
   "metadata": {},
   "source": [
    "![image.png](attachment:6f1f7c10-99d1-466e-9614-8ffa22f255ac.png)"
   ]
  },
  {
   "cell_type": "markdown",
   "id": "0b99146c",
   "metadata": {},
   "source": [
    "## Starting Triton Server\n",
    "\n",
    "After we export the ensemble, we are ready to start the Triton Inference Server. First ensure it is installed in your environment otherwise find more install information here[link to triton build and install documentation]. Once installation is verified, you can start triton server by using the following command:\n",
    "\n",
    "`tritonserver --model-repository=/ensemble_export_path/ --backend-config=tensorflow,version=2`\n",
    "\n",
    "For the `--model-repository` argument, specify the same value as the `export_path` that you specified previously in the `ensemble.export` method."
   ]
  },
  {
   "cell_type": "markdown",
   "id": "c75e2eb9",
   "metadata": {},
   "source": [
    "## Retrieving Recommendations from Triton\n",
    "\n",
    "Now that our tritonserver instance is running, we can send a request to it. This request is composed of values that correspond to the request schema created when exporting the ensemble graph.\n",
    "\n",
    "In the code below we create a request to send to triton and send it. We will then analyze the response, to show the full experience."
   ]
  },
  {
   "cell_type": "markdown",
   "id": "7ab6a187-d00e-4728-90a5-2f0d4152ec0f",
   "metadata": {},
   "source": [
    "First we need to ensure that we have a client connected to the tritonserver instance we launched previously. To do this we rely on the triton http client."
   ]
  },
  {
   "cell_type": "code",
   "execution_count": 8,
   "id": "21a693ab-0ee3-443e-8ad4-fad030ec1985",
   "metadata": {},
   "outputs": [
    {
     "name": "stdout",
     "output_type": "stream",
     "text": [
      "client created.\n"
     ]
    },
    {
     "name": "stderr",
     "output_type": "stream",
     "text": [
      "/usr/local/lib/python3.8/dist-packages/tritonhttpclient/__init__.py:31: DeprecationWarning: The package `tritonhttpclient` is deprecated and will be removed in a future version. Please use instead `tritonclient.http`\n",
      "  warnings.warn(\n"
     ]
    }
   ],
   "source": [
    "import tritonhttpclient\n",
    "\n",
    "# create triton client\n",
    "try:\n",
    "    triton_client = tritonhttpclient.InferenceServerClient(url=\"localhost:8000\", verbose=True)\n",
    "    print(\"client created.\")\n",
    "except Exception as e:\n",
    "    print(\"channel creation failed: \" + str(e))"
   ]
  },
  {
   "cell_type": "markdown",
   "id": "358bb59b-796a-4e1e-8e02-b7d3b86c27f9",
   "metadata": {},
   "source": [
    "Once we have created the client and verified it is connected to the tritonserver instance, we can communicate with the server and ensure all the models have been loaded correctly."
   ]
  },
  {
   "cell_type": "code",
   "execution_count": 9,
   "id": "ae48a6ee-d585-421b-bb5a-1a5c2edca058",
   "metadata": {},
   "outputs": [
    {
     "name": "stdout",
     "output_type": "stream",
     "text": [
      "GET /v2/health/live, headers None\n",
      "<HTTPSocketPoolResponse status=200 headers={'content-length': '0', 'content-type': 'text/plain'}>\n",
      "POST /v2/repository/index, headers None\n",
      "\n",
      "<HTTPSocketPoolResponse status=200 headers={'content-type': 'application/json', 'content-length': '179'}>\n",
      "bytearray(b'[{\"name\":\"0_transformworkflow\",\"version\":\"1\",\"state\":\"READY\"},{\"name\":\"1_predicttensorflow\",\"version\":\"1\",\"state\":\"READY\"},{\"name\":\"ensemble_model\",\"version\":\"1\",\"state\":\"READY\"}]')\n"
     ]
    },
    {
     "data": {
      "text/plain": [
       "[{'name': '0_transformworkflow', 'version': '1', 'state': 'READY'},\n",
       " {'name': '1_predicttensorflow', 'version': '1', 'state': 'READY'},\n",
       " {'name': 'ensemble_model', 'version': '1', 'state': 'READY'}]"
      ]
     },
     "execution_count": 9,
     "metadata": {},
     "output_type": "execute_result"
    }
   ],
   "source": [
    "# ensure triton is in a good state\n",
    "triton_client.is_server_live()\n",
    "triton_client.get_model_repository_index()"
   ]
  },
  {
   "cell_type": "markdown",
   "id": "dfbc6f01-5ccf-43a2-ae4f-8451a420fc70",
   "metadata": {},
   "source": [
    "After verifying the models are correctly loaded by triton we grab some original test data and send it as an inference request to triton. Note: `df_lib` is cudf if a GPU is available and pandas otherwise."
   ]
  },
  {
   "cell_type": "code",
   "execution_count": 10,
   "id": "3235eb79-494a-4d92-b3d7-b74091c4e28b",
   "metadata": {},
   "outputs": [
    {
     "data": {
      "text/html": [
       "<div>\n",
       "<style scoped>\n",
       "    .dataframe tbody tr th:only-of-type {\n",
       "        vertical-align: middle;\n",
       "    }\n",
       "\n",
       "    .dataframe tbody tr th {\n",
       "        vertical-align: top;\n",
       "    }\n",
       "\n",
       "    .dataframe thead th {\n",
       "        text-align: right;\n",
       "    }\n",
       "</style>\n",
       "<table border=\"1\" class=\"dataframe\">\n",
       "  <thead>\n",
       "    <tr style=\"text-align: right;\">\n",
       "      <th></th>\n",
       "      <th>user_id</th>\n",
       "      <th>item_id</th>\n",
       "      <th>item_category</th>\n",
       "      <th>item_shop</th>\n",
       "      <th>item_brand</th>\n",
       "      <th>user_shops</th>\n",
       "      <th>user_profile</th>\n",
       "      <th>user_group</th>\n",
       "      <th>user_gender</th>\n",
       "      <th>user_age</th>\n",
       "      <th>user_consumption_2</th>\n",
       "      <th>user_is_occupied</th>\n",
       "      <th>user_geography</th>\n",
       "      <th>user_intentions</th>\n",
       "      <th>user_brands</th>\n",
       "      <th>user_categories</th>\n",
       "    </tr>\n",
       "  </thead>\n",
       "  <tbody>\n",
       "    <tr>\n",
       "      <th>0</th>\n",
       "      <td>31390</td>\n",
       "      <td>5587143</td>\n",
       "      <td>8315277</td>\n",
       "      <td>8801026</td>\n",
       "      <td>9181078</td>\n",
       "      <td>568260</td>\n",
       "      <td>3438658</td>\n",
       "      <td>3438762</td>\n",
       "      <td>3438769</td>\n",
       "      <td>3438774</td>\n",
       "      <td>3438782</td>\n",
       "      <td>3864885</td>\n",
       "      <td>3864887</td>\n",
       "      <td>3912301</td>\n",
       "      <td>3812616</td>\n",
       "      <td>449068</td>\n",
       "    </tr>\n",
       "    <tr>\n",
       "      <th>1</th>\n",
       "      <td>31390</td>\n",
       "      <td>5662732</td>\n",
       "      <td>8316893</td>\n",
       "      <td>8987328</td>\n",
       "      <td>9206290</td>\n",
       "      <td>568260</td>\n",
       "      <td>3438658</td>\n",
       "      <td>3438762</td>\n",
       "      <td>3438769</td>\n",
       "      <td>3438774</td>\n",
       "      <td>3438782</td>\n",
       "      <td>3864885</td>\n",
       "      <td>3864887</td>\n",
       "      <td>3912301</td>\n",
       "      <td>3812616</td>\n",
       "      <td>449068</td>\n",
       "    </tr>\n",
       "    <tr>\n",
       "      <th>2</th>\n",
       "      <td>31390</td>\n",
       "      <td>6539512</td>\n",
       "      <td>8315405</td>\n",
       "      <td>8546676</td>\n",
       "      <td>9273427</td>\n",
       "      <td>568260</td>\n",
       "      <td>3438658</td>\n",
       "      <td>3438762</td>\n",
       "      <td>3438769</td>\n",
       "      <td>3438774</td>\n",
       "      <td>3438782</td>\n",
       "      <td>3864885</td>\n",
       "      <td>3864887</td>\n",
       "      <td>3912301</td>\n",
       "      <td>3812616</td>\n",
       "      <td>449068</td>\n",
       "    </tr>\n",
       "  </tbody>\n",
       "</table>\n",
       "</div>"
      ],
      "text/plain": [
       "  user_id  item_id item_category item_shop item_brand user_shops user_profile  \\\n",
       "0   31390  5587143       8315277   8801026    9181078     568260      3438658   \n",
       "1   31390  5662732       8316893   8987328    9206290     568260      3438658   \n",
       "2   31390  6539512       8315405   8546676    9273427     568260      3438658   \n",
       "\n",
       "  user_group user_gender user_age user_consumption_2 user_is_occupied  \\\n",
       "0    3438762     3438769  3438774            3438782          3864885   \n",
       "1    3438762     3438769  3438774            3438782          3864885   \n",
       "2    3438762     3438769  3438774            3438782          3864885   \n",
       "\n",
       "  user_geography user_intentions user_brands user_categories  \n",
       "0        3864887         3912301     3812616          449068  \n",
       "1        3864887         3912301     3812616          449068  \n",
       "2        3864887         3912301     3812616          449068  "
      ]
     },
     "execution_count": 10,
     "metadata": {},
     "output_type": "execute_result"
    }
   ],
   "source": [
    "from merlin.core.dispatch import get_lib\n",
    "\n",
    "df_lib = get_lib()\n",
    "original_data_path = os.environ.get(\"DATA_FOLDER\", \"/workspace/data/\")\n",
    "\n",
    "# read in data for request\n",
    "batch = df_lib.read_parquet(\n",
    "    os.path.join(original_data_path,\"test\", \"test_0.parquet\"), num_rows=3, columns=workflow.input_schema.column_names\n",
    ")\n",
    "batch"
   ]
  },
  {
   "cell_type": "markdown",
   "id": "9691d28f-80d8-4520-b6e6-b7e260c50380",
   "metadata": {},
   "source": [
    "Once we isolate our `batch`, we convert the dataframe representation into triton inputs. We also declare the outputs we expect to receive from the model."
   ]
  },
  {
   "cell_type": "code",
   "execution_count": 11,
   "id": "fe53865c-9099-478c-8a30-17140ec1c120",
   "metadata": {},
   "outputs": [],
   "source": [
    "from merlin.systems.triton import convert_df_to_triton_input\n",
    "import tritonclient.grpc as grpcclient\n",
    "# create inputs and outputs\n",
    "\n",
    "inputs = convert_df_to_triton_input(workflow.input_schema.column_names, batch, grpcclient.InferInput)\n",
    "\n",
    "\n",
    "outputs = [\n",
    "    grpcclient.InferRequestedOutput(col)\n",
    "    for col in ensemble.graph.output_schema.column_names\n",
    "]"
   ]
  },
  {
   "cell_type": "markdown",
   "id": "50fb442d-d918-4b1a-a825-dfce4f75bc02",
   "metadata": {},
   "source": [
    "Once our `inputs` and `outputs` are created, we can use the `triton_client` created earlier to send the inference request."
   ]
  },
  {
   "cell_type": "code",
   "execution_count": 12,
   "id": "1c9031d7-a242-4278-808f-26d307e6a0db",
   "metadata": {},
   "outputs": [],
   "source": [
    "# send request to tritonserver\n",
    "with grpcclient.InferenceServerClient(\"localhost:8001\") as client:\n",
    "    response = client.infer(\"ensemble_model\", inputs, request_id=\"1\", outputs=outputs)"
   ]
  },
  {
   "cell_type": "markdown",
   "id": "10c00a98-a30e-45ca-9ab6-667621a20c75",
   "metadata": {},
   "source": [
    "When Triton completes the inference request, it returns a Triton inference response. This response is parsed to get the desired predictions."
   ]
  },
  {
   "cell_type": "code",
   "execution_count": 13,
   "id": "4700c280-73e9-400a-ae9a-ee723789c96d",
   "metadata": {},
   "outputs": [
    {
     "name": "stdout",
     "output_type": "stream",
     "text": [
      "output_1 [[0.05209467]\n",
      " [0.05619942]\n",
      " [0.01078821]] (3, 1)\n"
     ]
    }
   ],
   "source": [
    "# access individual response columns to get values back.\n",
    "for col in ensemble.graph.output_schema.column_names:\n",
    "    print(col, response.as_numpy(col), response.as_numpy(col).shape)"
   ]
  },
  {
   "cell_type": "code",
   "execution_count": null,
   "id": "e355213d-e452-4d43-8bba-d36b7f5694bb",
   "metadata": {},
   "outputs": [],
   "source": []
  }
 ],
 "metadata": {
  "kernelspec": {
   "display_name": "Python 3 (ipykernel)",
   "language": "python",
   "name": "python3"
  },
  "language_info": {
   "codemirror_mode": {
    "name": "ipython",
    "version": 3
   },
   "file_extension": ".py",
   "mimetype": "text/x-python",
   "name": "python",
   "nbconvert_exporter": "python",
   "pygments_lexer": "ipython3",
   "version": "3.8.10"
  }
 },
 "nbformat": 4,
 "nbformat_minor": 5
}
